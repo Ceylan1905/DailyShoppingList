{
  "nbformat": 4,
  "nbformat_minor": 0,
  "metadata": {
    "colab": {
      "name": "HW1.py",
      "provenance": [],
      "collapsed_sections": [],
      "authorship_tag": "ABX9TyMWXpyx8RvX+rzD0RQsIIhf",
      "include_colab_link": true
    },
    "kernelspec": {
      "name": "python3",
      "display_name": "Python 3"
    }
  },
  "cells": [
    {
      "cell_type": "markdown",
      "metadata": {
        "id": "view-in-github",
        "colab_type": "text"
      },
      "source": [
        "<a href=\"https://colab.research.google.com/github/Ceylan1905/DailyShoppingList/blob/master/HW1_py.ipynb\" target=\"_parent\"><img src=\"https://colab.research.google.com/assets/colab-badge.svg\" alt=\"Open In Colab\"/></a>"
      ]
    },
    {
      "cell_type": "code",
      "metadata": {
        "colab": {
          "base_uri": "https://localhost:8080/"
        },
        "id": "S18AVYr85OD-",
        "outputId": "84920b28-0091-4ef7-d997-3af63f476597"
      },
      "source": [
        "import random as rnd\r\n",
        "matrix = [] # Initialize matrix\r\n",
        "list=[] # Initialize list for add 9 prime numbers\r\n",
        "k=0 # Define the variable for while loop \r\n",
        "n=0 # Define the variable for iteration\r\n",
        "\r\n",
        "while k<9:\r\n",
        "  r_number=rnd.randint(1,100) # Generate random number 1 between 100 \r\n",
        "  if r_number > 1:\r\n",
        "   for i in range(2,r_number):\r\n",
        "       if r_number % i == 0: # Check for prime \r\n",
        "           break \r\n",
        "   else:\r\n",
        "       k=k+1\r\n",
        "       list.append(r_number) # Add random prime number to list\r\n",
        "\r\n",
        "\r\n",
        "# Create 3x3 matrix from list's items\r\n",
        "for i in range(3):  \r\n",
        "    a =[] \r\n",
        "    for j in range(3):     \r\n",
        "         a.append(list[n])\r\n",
        "         n=n+1\r\n",
        "    matrix.append(a)\r\n",
        "\r\n",
        "  \r\n",
        "# For printing the matrix \r\n",
        "print(\"My 3x3 matris is: \\n\")\r\n",
        "for i in range(3): \r\n",
        "    for j in range(3): \r\n",
        "        print(matrix[i][j], end = \" \") \r\n",
        "    print() \r\n",
        "\r\n"
      ],
      "execution_count": null,
      "outputs": [
        {
          "output_type": "stream",
          "text": [
            "My 3x3 matris is: \n",
            "\n",
            "53 19 19 \n",
            "5 3 53 \n",
            "59 59 79 \n"
          ],
          "name": "stdout"
        }
      ]
    }
  ]
}